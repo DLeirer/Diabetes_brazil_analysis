{
 "cells": [
  {
   "cell_type": "markdown",
   "metadata": {},
   "source": [
    "# Project: Investigation of factors associated to Diabetes in Brazilian cohort\n",
    "\n",
    "## Table of Contents\n",
    "\n",
    "<ul>\n",
    "<li><a href=\"#intro\">Introduction</a></li>\n",
    "<li><a href=\"#wrangling\">Data Wrangling</a></li>\n",
    "<li><a href=\"#eda\">Exploratory Data Analysis</a></li>\n",
    "<li><a href=\"#conclusions\">Conclusions</a></li>\n",
    "</ul>"
   ]
  },
  {
   "cell_type": "markdown",
   "metadata": {},
   "source": [
    "<a id='intro'></a>\n",
    "\n",
    "## Introduction\n",
    "\n",
    "In this analysis I will investigate the \"no-show appointments\" dataset from kaggle. I will investigate what variables are related to Diabetes. My assumptions prior to looking at the data would be that individuals who suffer from diabetes are more liekly to be male, old and suffering from hypertension. "
   ]
  },
  {
   "cell_type": "code",
   "execution_count": 48,
   "metadata": {},
   "outputs": [],
   "source": [
    "# import packages\n",
    "import numpy as np\n",
    "import pandas as pd\n",
    "import matplotlib.pyplot as plt\n",
    "import seaborn as sns\n",
    "import scipy.stats as stats\n",
    "from statsmodels.graphics.mosaicplot import mosaic\n",
    "\n",
    "#magic for matplotlib\n",
    "%matplotlib inline"
   ]
  },
  {
   "cell_type": "markdown",
   "metadata": {},
   "source": [
    "<a id='wrangling'></a>\n",
    "\n",
    "## Data Wrangling\n",
    "\n",
    "\n",
    "\n",
    "### General Properties"
   ]
  },
  {
   "cell_type": "markdown",
   "metadata": {},
   "source": [
    "It appears that the dataframe has 110527 rows and 14 columns. There appear to be no missing values.  \n",
    "\n",
    "The describe function does show that some age values are unreasonable, with a minimum of -1 and max of 115. This needs to be addressed. For this study it seems reasonable to focus on adults between the ages of 18 and 65. Children and the Eldery are affected quite differently by disease.  \n",
    "\n",
    "There are 110527 unique appointment IDs, which is good since they need to be unique.  \n",
    "\n",
    "There are only 62299 Patient Ids indicating that some patients have multiple appointments. We only need one record per patient to look at the relationship between diabetes, age, gender and hyptertension.  \n",
    "\n",
    "A quick check was performed to see if Diabetes or Hypertension status changed for any individuals. This was done by calculating the variance after grouping by patient. If an individual gets a new diagnosis variance would go above 0. This was not seen anywhere.  \n",
    "\n",
    "The column \"Hipertension\" should be \"Hypertensions\". \n",
    "\n",
    "\n",
    "Categorical variables are coded as integers or in the case of gender as strings. I prefer to use the pandas categorical data type since that makes it more obvious when I work with it.  "
   ]
  },
  {
   "cell_type": "code",
   "execution_count": 49,
   "metadata": {},
   "outputs": [
    {
     "name": "stdout",
     "output_type": "stream",
     "text": [
      "<class 'pandas.core.frame.DataFrame'>\n",
      "RangeIndex: 110527 entries, 0 to 110526\n",
      "Data columns (total 14 columns):\n",
      "PatientId         110527 non-null float64\n",
      "AppointmentID     110527 non-null int64\n",
      "Gender            110527 non-null object\n",
      "ScheduledDay      110527 non-null object\n",
      "AppointmentDay    110527 non-null object\n",
      "Age               110527 non-null int64\n",
      "Neighbourhood     110527 non-null object\n",
      "Scholarship       110527 non-null int64\n",
      "Hipertension      110527 non-null int64\n",
      "Diabetes          110527 non-null int64\n",
      "Alcoholism        110527 non-null int64\n",
      "Handcap           110527 non-null int64\n",
      "SMS_received      110527 non-null int64\n",
      "No-show           110527 non-null object\n",
      "dtypes: float64(1), int64(8), object(5)\n",
      "memory usage: 11.8+ MB\n"
     ]
    }
   ],
   "source": [
    "# Load data\n",
    "df = pd.read_csv(\"noshowappointments-kagglev2-may-2016.csv\")\n",
    "\n",
    "\n",
    "#get info for dataframe. \n",
    "df.info()\n"
   ]
  },
  {
   "cell_type": "code",
   "execution_count": 50,
   "metadata": {},
   "outputs": [
    {
     "data": {
      "text/html": [
       "<div>\n",
       "<style scoped>\n",
       "    .dataframe tbody tr th:only-of-type {\n",
       "        vertical-align: middle;\n",
       "    }\n",
       "\n",
       "    .dataframe tbody tr th {\n",
       "        vertical-align: top;\n",
       "    }\n",
       "\n",
       "    .dataframe thead th {\n",
       "        text-align: right;\n",
       "    }\n",
       "</style>\n",
       "<table border=\"1\" class=\"dataframe\">\n",
       "  <thead>\n",
       "    <tr style=\"text-align: right;\">\n",
       "      <th></th>\n",
       "      <th>PatientId</th>\n",
       "      <th>AppointmentID</th>\n",
       "      <th>Age</th>\n",
       "      <th>Scholarship</th>\n",
       "      <th>Hipertension</th>\n",
       "      <th>Diabetes</th>\n",
       "      <th>Alcoholism</th>\n",
       "      <th>Handcap</th>\n",
       "      <th>SMS_received</th>\n",
       "    </tr>\n",
       "  </thead>\n",
       "  <tbody>\n",
       "    <tr>\n",
       "      <th>count</th>\n",
       "      <td>1.105270e+05</td>\n",
       "      <td>1.105270e+05</td>\n",
       "      <td>110527.000000</td>\n",
       "      <td>110527.000000</td>\n",
       "      <td>110527.000000</td>\n",
       "      <td>110527.000000</td>\n",
       "      <td>110527.000000</td>\n",
       "      <td>110527.000000</td>\n",
       "      <td>110527.000000</td>\n",
       "    </tr>\n",
       "    <tr>\n",
       "      <th>mean</th>\n",
       "      <td>1.474963e+14</td>\n",
       "      <td>5.675305e+06</td>\n",
       "      <td>37.088874</td>\n",
       "      <td>0.098266</td>\n",
       "      <td>0.197246</td>\n",
       "      <td>0.071865</td>\n",
       "      <td>0.030400</td>\n",
       "      <td>0.022248</td>\n",
       "      <td>0.321026</td>\n",
       "    </tr>\n",
       "    <tr>\n",
       "      <th>std</th>\n",
       "      <td>2.560949e+14</td>\n",
       "      <td>7.129575e+04</td>\n",
       "      <td>23.110205</td>\n",
       "      <td>0.297675</td>\n",
       "      <td>0.397921</td>\n",
       "      <td>0.258265</td>\n",
       "      <td>0.171686</td>\n",
       "      <td>0.161543</td>\n",
       "      <td>0.466873</td>\n",
       "    </tr>\n",
       "    <tr>\n",
       "      <th>min</th>\n",
       "      <td>3.921784e+04</td>\n",
       "      <td>5.030230e+06</td>\n",
       "      <td>-1.000000</td>\n",
       "      <td>0.000000</td>\n",
       "      <td>0.000000</td>\n",
       "      <td>0.000000</td>\n",
       "      <td>0.000000</td>\n",
       "      <td>0.000000</td>\n",
       "      <td>0.000000</td>\n",
       "    </tr>\n",
       "    <tr>\n",
       "      <th>25%</th>\n",
       "      <td>4.172614e+12</td>\n",
       "      <td>5.640286e+06</td>\n",
       "      <td>18.000000</td>\n",
       "      <td>0.000000</td>\n",
       "      <td>0.000000</td>\n",
       "      <td>0.000000</td>\n",
       "      <td>0.000000</td>\n",
       "      <td>0.000000</td>\n",
       "      <td>0.000000</td>\n",
       "    </tr>\n",
       "    <tr>\n",
       "      <th>50%</th>\n",
       "      <td>3.173184e+13</td>\n",
       "      <td>5.680573e+06</td>\n",
       "      <td>37.000000</td>\n",
       "      <td>0.000000</td>\n",
       "      <td>0.000000</td>\n",
       "      <td>0.000000</td>\n",
       "      <td>0.000000</td>\n",
       "      <td>0.000000</td>\n",
       "      <td>0.000000</td>\n",
       "    </tr>\n",
       "    <tr>\n",
       "      <th>75%</th>\n",
       "      <td>9.439172e+13</td>\n",
       "      <td>5.725524e+06</td>\n",
       "      <td>55.000000</td>\n",
       "      <td>0.000000</td>\n",
       "      <td>0.000000</td>\n",
       "      <td>0.000000</td>\n",
       "      <td>0.000000</td>\n",
       "      <td>0.000000</td>\n",
       "      <td>1.000000</td>\n",
       "    </tr>\n",
       "    <tr>\n",
       "      <th>max</th>\n",
       "      <td>9.999816e+14</td>\n",
       "      <td>5.790484e+06</td>\n",
       "      <td>115.000000</td>\n",
       "      <td>1.000000</td>\n",
       "      <td>1.000000</td>\n",
       "      <td>1.000000</td>\n",
       "      <td>1.000000</td>\n",
       "      <td>4.000000</td>\n",
       "      <td>1.000000</td>\n",
       "    </tr>\n",
       "  </tbody>\n",
       "</table>\n",
       "</div>"
      ],
      "text/plain": [
       "          PatientId  AppointmentID            Age    Scholarship  \\\n",
       "count  1.105270e+05   1.105270e+05  110527.000000  110527.000000   \n",
       "mean   1.474963e+14   5.675305e+06      37.088874       0.098266   \n",
       "std    2.560949e+14   7.129575e+04      23.110205       0.297675   \n",
       "min    3.921784e+04   5.030230e+06      -1.000000       0.000000   \n",
       "25%    4.172614e+12   5.640286e+06      18.000000       0.000000   \n",
       "50%    3.173184e+13   5.680573e+06      37.000000       0.000000   \n",
       "75%    9.439172e+13   5.725524e+06      55.000000       0.000000   \n",
       "max    9.999816e+14   5.790484e+06     115.000000       1.000000   \n",
       "\n",
       "        Hipertension       Diabetes     Alcoholism        Handcap  \\\n",
       "count  110527.000000  110527.000000  110527.000000  110527.000000   \n",
       "mean        0.197246       0.071865       0.030400       0.022248   \n",
       "std         0.397921       0.258265       0.171686       0.161543   \n",
       "min         0.000000       0.000000       0.000000       0.000000   \n",
       "25%         0.000000       0.000000       0.000000       0.000000   \n",
       "50%         0.000000       0.000000       0.000000       0.000000   \n",
       "75%         0.000000       0.000000       0.000000       0.000000   \n",
       "max         1.000000       1.000000       1.000000       4.000000   \n",
       "\n",
       "        SMS_received  \n",
       "count  110527.000000  \n",
       "mean        0.321026  \n",
       "std         0.466873  \n",
       "min         0.000000  \n",
       "25%         0.000000  \n",
       "50%         0.000000  \n",
       "75%         1.000000  \n",
       "max         1.000000  "
      ]
     },
     "execution_count": 50,
     "metadata": {},
     "output_type": "execute_result"
    }
   ],
   "source": [
    "#describe dataframe\n",
    "df.describe()"
   ]
  },
  {
   "cell_type": "code",
   "execution_count": 51,
   "metadata": {},
   "outputs": [
    {
     "data": {
      "text/plain": [
       "110527"
      ]
     },
     "execution_count": 51,
     "metadata": {},
     "output_type": "execute_result"
    }
   ],
   "source": [
    "#Check how many unique appointment IDs there are\n",
    "df[\"AppointmentID\"].nunique()"
   ]
  },
  {
   "cell_type": "code",
   "execution_count": 52,
   "metadata": {},
   "outputs": [
    {
     "data": {
      "text/plain": [
       "62299"
      ]
     },
     "execution_count": 52,
     "metadata": {},
     "output_type": "execute_result"
    }
   ],
   "source": [
    "#Check how many unique patient IDs there are. \n",
    "df[\"PatientId\"].nunique()"
   ]
  },
  {
   "cell_type": "code",
   "execution_count": 53,
   "metadata": {},
   "outputs": [
    {
     "data": {
      "text/html": [
       "<div>\n",
       "<style scoped>\n",
       "    .dataframe tbody tr th:only-of-type {\n",
       "        vertical-align: middle;\n",
       "    }\n",
       "\n",
       "    .dataframe tbody tr th {\n",
       "        vertical-align: top;\n",
       "    }\n",
       "\n",
       "    .dataframe thead th {\n",
       "        text-align: right;\n",
       "    }\n",
       "</style>\n",
       "<table border=\"1\" class=\"dataframe\">\n",
       "  <thead>\n",
       "    <tr style=\"text-align: right;\">\n",
       "      <th></th>\n",
       "      <th>AppointmentID</th>\n",
       "      <th>Age</th>\n",
       "      <th>Scholarship</th>\n",
       "      <th>Hipertension</th>\n",
       "      <th>Diabetes</th>\n",
       "      <th>Alcoholism</th>\n",
       "      <th>Handcap</th>\n",
       "      <th>SMS_received</th>\n",
       "    </tr>\n",
       "    <tr>\n",
       "      <th>PatientId</th>\n",
       "      <th></th>\n",
       "      <th></th>\n",
       "      <th></th>\n",
       "      <th></th>\n",
       "      <th></th>\n",
       "      <th></th>\n",
       "      <th></th>\n",
       "      <th></th>\n",
       "    </tr>\n",
       "  </thead>\n",
       "  <tbody>\n",
       "  </tbody>\n",
       "</table>\n",
       "</div>"
      ],
      "text/plain": [
       "Empty DataFrame\n",
       "Columns: [AppointmentID, Age, Scholarship, Hipertension, Diabetes, Alcoholism, Handcap, SMS_received]\n",
       "Index: []"
      ]
     },
     "execution_count": 53,
     "metadata": {},
     "output_type": "execute_result"
    }
   ],
   "source": [
    "# Check if for individuals with multiple appointments there is a change in diabetes or hypertension status. \n",
    "# It is possible that patients get diagnosed between appointments. \n",
    "# Make df2 of varience for all columns grouped by patient id. \n",
    "df_pid= df.groupby(by=\"PatientId\").var()\n",
    "# Select rows with variance above 0 for Diabetes or Hypertension. \n",
    "df_pid.loc[(df_pid[\"Diabetes\"] > 0) | (df_pid[\"Hipertension\"] > 0), ]"
   ]
  },
  {
   "cell_type": "markdown",
   "metadata": {},
   "source": [
    "\n",
    "### Data Cleaning"
   ]
  },
  {
   "cell_type": "code",
   "execution_count": 54,
   "metadata": {},
   "outputs": [],
   "source": [
    "# Change column name \n",
    "df.rename(columns = {'Hipertension':'Hypertension'}, inplace = True) \n",
    "\n",
    "#Subset to individuals between the ages of 18 and 65\n",
    "df = df.loc[(df[\"Age\"] > 18) & (df[\"Age\"] < 65), ] \n",
    "\n",
    "#Remove duplicate patient IDs\n",
    "df.drop_duplicates(subset = \"PatientId\", inplace = True)\n",
    "\n",
    "\n"
   ]
  },
  {
   "cell_type": "code",
   "execution_count": 55,
   "metadata": {},
   "outputs": [],
   "source": [
    "#Subset to variables of interest\n",
    "df = df[['Diabetes','Gender', 'Hypertension', 'Age']]\n",
    "\n",
    "#Change categorical variables to categorical\n",
    "df[['Diabetes','Gender', 'Hypertension']]=df[['Diabetes','Gender', 'Hypertension']].astype(\"category\")\n",
    "\n",
    "\n",
    "#Add actual categories for diabetes and hypertension\n",
    "df[\"Diabetes\"].replace([0,1],[\"non-Diabetic\",\"Diabetic\"],inplace = True)\n",
    "df[\"Hypertension\"].replace([0,1],[\"no-Hypertension\",\"Hypertension\"],inplace = True)\n"
   ]
  },
  {
   "cell_type": "markdown",
   "metadata": {},
   "source": [
    "<a id='eda'></a>\n",
    "\n",
    "## Exploratory Data Analysis\n",
    "\n",
    "\n",
    "### Relationship between Diabetes and Hypertension"
   ]
  },
  {
   "cell_type": "markdown",
   "metadata": {},
   "source": [
    "The boxplot below quite clearly shows that diabetics as a group tend to be older than healthy individuals. This is also true for individuals with hypertension, and individuals with concurrent hypertension and diabetes are the oldest.  \n",
    "\n",
    "This might mean that old age is a risk factor for both diabetes and hypertension, rather then there being a direct relationship between the two conditions.  \n",
    "\n",
    "However looking at the contingency table and mosaic plots for diabetes and hypertension shows that out of the 2509 individuals with Diabetes only 635 have diabetes alone, while 1874 have both hypertension and diabetes. The P-value in this case was 0, which is very strong grounds to reject the null hypothesis that the distribution we see is due to random chance.  \n",
    "\n",
    "We see significantly more Diabetics with hypertension than without, but when looking at hypertension there is actually a larger group that do not have Diabetes. It is known that diabetes is a risk factor for hypertension, and this data fits in with the medical literature. "
   ]
  },
  {
   "cell_type": "code",
   "execution_count": 56,
   "metadata": {},
   "outputs": [
    {
     "data": {
      "text/plain": [
       "Text(0.5, 1.0, 'Boxplot of Diabetes vs Age split by Hypertension status.')"
      ]
     },
     "execution_count": 56,
     "metadata": {},
     "output_type": "execute_result"
    },
    {
     "data": {
      "image/png": "[encoded data removed]",
      "text/plain": [
       "<Figure size 432x288 with 1 Axes>"
      ]
     },
     "metadata": {
      "needs_background": "light"
     },
     "output_type": "display_data"
    }
   ],
   "source": [
    "#Boxplot of diabetes vs age  broken down by hypertension.  \n",
    "bp_dvh = sns.boxplot(x=\"Diabetes\", y=\"Age\", hue=\"Hypertension\",data=df)\n",
    "plt.title(\"Boxplot of Diabetes vs Age split by Hypertension status.\")\n"
   ]
  },
  {
   "cell_type": "code",
   "execution_count": 59,
   "metadata": {},
   "outputs": [
    {
     "data": {
      "image/png": "[encoded data removed]",
      "text/plain": [
       "<Figure size 432x288 with 3 Axes>"
      ]
     },
     "metadata": {
      "needs_background": "light"
     },
     "output_type": "display_data"
    },
    {
     "name": "stdout",
     "output_type": "stream",
     "text": [
      "Diabetes         Diabetic  non-Diabetic\n",
      "Hypertension                           \n",
      "Hypertension         1874          5431\n",
      "no-Hypertension       635         28910\n",
      "p_value : 0.0\n",
      "Odds Ratio : 15.709564660153072\n"
     ]
    }
   ],
   "source": [
    "# make diabetes & hypertension contingency tabel for use in fisher exact test. \n",
    "tab_dh = pd.crosstab(df['Hypertension'],df['Diabetes'])\n",
    "\n",
    "# Fisher exact test \n",
    "odds_dh, p_val_dh = stats.fisher_exact(tab_dh)\n",
    "\n",
    "\n",
    "mosaic(df,[\"Diabetes\",\"Hypertension\"],title = \"Moasic plot of Diabetes and Hypertension\")\n",
    "plt.show()\n",
    "\n",
    "#print crosstab and stats\n",
    "print(tab_dh)\n",
    "print (\"p_value :\", p_val_dh)\n",
    "print (\"Odds Ratio :\", odds_dh)"
   ]
  },
  {
   "cell_type": "markdown",
   "metadata": {},
   "source": [
    "### Does Diabetes affect Men and Women at similair rates and ages? "
   ]
  },
  {
   "cell_type": "markdown",
   "metadata": {},
   "source": [
    "When it comes to Gender it seems that women and men are affected at similair rates and in older age. Diabetics tend to be in their 50s and 60s regardless of gender and the proportion of female diabetics is similair to that of male, given the size of their respective populations. \n",
    "\n",
    "The mosaic plot shows that diabetes status proporitions are very similair across genders.\n",
    "A fishers exact test was performed with the p_value being 0.059. Using a normal p-vaulue cutoff of 0.05 we should not reject the null hypothesis, which is that gender is not significantly associated to diabetes. "
   ]
  },
  {
   "cell_type": "code",
   "execution_count": 36,
   "metadata": {
    "scrolled": true
   },
   "outputs": [
    {
     "name": "stdout",
     "output_type": "stream",
     "text": [
      "Gender            F      M\n",
      "Diabetes                  \n",
      "Diabetic       1699    810\n",
      "non-Diabetic  23875  10466\n",
      "p_value : 0.05944536168671716\n",
      "Odds Ratio : 0.9194872471074914\n"
     ]
    },
    {
     "data": {
      "image/png": "[encoded data removed]",
      "text/plain": [
       "<Figure size 432x288 with 1 Axes>"
      ]
     },
     "metadata": {
      "needs_background": "light"
     },
     "output_type": "display_data"
    }
   ],
   "source": [
    "#Boxplot of Diabetes vs age broken down by Gender.  \n",
    "bp_dg = sns.boxplot(x=\"Diabetes\", y=\"Age\", hue=\"Gender\",data=df)\n",
    "bp_dg = plt.title(\"Boxplot of Diabetes vs Age split by Gender.\")\n",
    "\n",
    "# make diabetes & hypertension contingency tabel for use in fisher exact test. \n",
    "tab_dg = pd.crosstab(df['Diabetes'], df['Gender'])\n",
    "\n",
    "# Fisher exact test \n",
    "odds_dg, p_val_dg = stats.fisher_exact(tab_dg)\n",
    "\n",
    "\n",
    "\n",
    "print(tab_dg)\n",
    "print (\"p_value :\", p_val_dg)\n",
    "print (\"Odds Ratio :\", odds_dg)"
   ]
  },
  {
   "cell_type": "code",
   "execution_count": 46,
   "metadata": {},
   "outputs": [
    {
     "data": {
      "image/png": "[encoded data removed]",
      "text/plain": [
       "<Figure size 432x288 with 3 Axes>"
      ]
     },
     "metadata": {
      "needs_background": "light"
     },
     "output_type": "display_data"
    }
   ],
   "source": [
    "mosaic(df,[\"Gender\",\"Diabetes\"],title = \"Moasic plot of diabetes and gender\")\n",
    "plt.show()"
   ]
  },
  {
   "cell_type": "markdown",
   "metadata": {},
   "source": [
    "<a id='conclusions'></a>\n",
    "\n",
    "## Conclusions\n",
    "\n",
    "In this project I briefly looked at how age, gender and hypertension are associated with Diabetes in a brazilien dataset.  \n",
    "The results suggest that diabetics tend to be older, and have higher rates of hypertension. I could not detect a significant relationship between gender and diabetes.  \n",
    "\n",
    "A major limiation of of this project is that the data is form a study looking at missed appointments not diabetes. Therefore it was not possible to distinguish between type 1 and type 2 diabetes or other diabetes subtypes. The cohort is also not representative of the general population since this is studying missed appointments, it can be assumed that most individuals are suffering from some condition. Since medical problems can have complex relationships results could be affected by the lack of a true healthy control group."
   ]
  },
  {
   "cell_type": "code",
   "execution_count": 60,
   "metadata": {},
   "outputs": [
    {
     "data": {
      "text/plain": [
       "0"
      ]
     },
     "execution_count": 60,
     "metadata": {},
     "output_type": "execute_result"
    }
   ],
   "source": [
    "from subprocess import call\n",
    "call(['python', '-m', 'nbconvert', 'Investigate_a_Dataset.ipynb'])"
   ]
  }
 ],
 "metadata": {
  "kernelspec": {
   "display_name": "Python 3",
   "language": "python",
   "name": "python3"
  },
  "language_info": {
   "codemirror_mode": {
    "name": "ipython",
    "version": 3
   },
   "file_extension": ".py",
   "mimetype": "text/x-python",
   "name": "python",
   "nbconvert_exporter": "python",
   "pygments_lexer": "ipython3",
   "version": "3.7.5"
  }
 },
 "nbformat": 4,
 "nbformat_minor": 2
}
